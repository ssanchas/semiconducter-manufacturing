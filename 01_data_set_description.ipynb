{
 "cells": [
  {
   "cell_type": "code",
   "execution_count": 2,
   "metadata": {
    "collapsed": true
   },
   "outputs": [],
   "source": [
    "# Import libraries and Packages.\n",
    "import numpy as np\n",
    "import pandas as pd\n",
    "import matplotlib.pyplot as plt\n",
    "import seaborn as sns\n",
    "from pandas import Series\n",
    "from sklearn.linear_model import Lasso\n",
    "from sklearn.model_selection import train_test_split\n",
    "\n",
    "%matplotlib inline\n",
    "\n",
    "###########################################################\n",
    "\n",
    "# Loading Data-Set\n",
    "label = pd.read_csv(\"secom_labels.txt\", delim_whitespace=True, header=None)\n",
    "features = pd.read_csv(\"secom_data.txt\", delim_whitespace=True,header=None)\n",
    "\n",
    "features = features.rename(columns={features.columns[i]: 'F'+ str(i) for i in range (590)}) # adding name to feature columns\n",
    "label = label.rename(columns={0: 'L0', 1 :'date'})   # adding name to label column\n",
    "\n",
    "############################################################\n",
    "\n",
    "# Concatinating to separate files\n",
    "df = pd.concat([features,label],axis=1, ignore_index=False)\n",
    "#print(df.head()) # Preliminary inspection of data-set\n",
    "#print(df.shape) # Preliminary inspection of data-set\n",
    "#print(df.index) # Preliminary inspection of data-set\n",
    "\n",
    "# Dropping columns with more than 10% missing data\n",
    "df = df.dropna(thresh=len(df) - int(0.1 * len(df)), axis=1)\n",
    "df = df.fillna(df.median())\n",
    "df.L0.replace(-1,0, inplace=True) # Converting label column to binary [0,1]\n",
    "\n",
    "# Building label vectore (y) and feature matrix(X)\n",
    "y = df['L0']\n",
    "X = df.drop(['L0','date'], axis=1)"
   ]
  },
  {
   "cell_type": "code",
   "execution_count": null,
   "metadata": {},
   "outputs": [],
   "source": []
  }
 ],
 "metadata": {
  "kernelspec": {
   "display_name": "Python 3.8.8 ('base')",
   "language": "python",
   "name": "python3"
  },
  "language_info": {
   "codemirror_mode": {
    "name": "ipython",
    "version": 3
   },
   "file_extension": ".py",
   "mimetype": "text/x-python",
   "name": "python",
   "nbconvert_exporter": "python",
   "pygments_lexer": "ipython3",
   "version": "3.8.8"
  },
  "vscode": {
   "interpreter": {
    "hash": "c6255b16646a54f6c98893b0cb5c0102cd9f0c27623b8c375730bec9f96c574c"
   }
  }
 },
 "nbformat": 4,
 "nbformat_minor": 2
}
